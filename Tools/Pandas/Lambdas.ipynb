{
 "cells": [
  {
   "cell_type": "code",
   "execution_count": null,
   "metadata": {},
   "outputs": [],
   "source": [
    "# Lambdas são funções sem nome, ou seja anônimas \n"
   ]
  },
  {
   "cell_type": "code",
   "execution_count": null,
   "metadata": {},
   "outputs": [
    {
     "name": "stdout",
     "output_type": "stream",
     "text": [
      "16\n"
     ]
    }
   ],
   "source": [
    "#  Fução Básica \n",
    "\n",
    "def fucao(x):\n",
    "    return 3 * x + 1\n",
    "\n",
    "print(fucao(5))"
   ]
  },
  {
   "cell_type": "code",
   "execution_count": 11,
   "metadata": {},
   "outputs": [
    {
     "name": "stdout",
     "output_type": "stream",
     "text": [
      "<function <lambda> at 0x000001EC7BB31D00>\n",
      "13\n"
     ]
    }
   ],
   "source": [
    "lambda x: 3 * x + 1\n",
    "print(lambda x: 3 * x + 1)\n",
    "\n",
    "calc = lambda x: 3 * x + 1\n",
    "\n",
    "print(calc(4))"
   ]
  },
  {
   "cell_type": "code",
   "execution_count": 19,
   "metadata": {},
   "outputs": [
    {
     "name": "stdout",
     "output_type": "stream",
     "text": [
      "Israel Teixeira\n"
     ]
    }
   ],
   "source": [
    "#  Podemos ter expressões lambdas com multiplas entradas \n",
    "\n",
    "from tkinter import N\n",
    "\n",
    "\n",
    "nome_completo = lambda nomes, sobrenome: nomes.strip().title() + ' ' + sobrenome.strip().title()\n",
    "\n",
    "print(nome_completo('israel', 'teixeira'))"
   ]
  },
  {
   "cell_type": "code",
   "execution_count": 31,
   "metadata": {},
   "outputs": [
    {
     "name": "stdout",
     "output_type": "stream",
     "text": [
      "Agora vai funcinar lambda\n",
      "10\n",
      "4.47213595499958\n",
      "2.7692307692307696\n"
     ]
    }
   ],
   "source": [
    "# Em funções Python podemos ter nenhuma ou varias entradas em Lambdas\n",
    "\n",
    "amar = lambda: 'Agora vai funcinar lambda'\n",
    "uma  = lambda x: 3 * x + 1\n",
    "duas = lambda x, y: (x * y) ** 0.5\n",
    "tres = lambda x, y, z: 3/(1/ x + 1 / y + 1 / z)\n",
    "\n",
    "\n",
    "\n",
    "print(amar())\n",
    "print(uma(3))\n",
    "print(duas(5,4))\n",
    "print(tres(2,3,4))"
   ]
  },
  {
   "cell_type": "code",
   "execution_count": null,
   "metadata": {},
   "outputs": [
    {
     "name": "stdout",
     "output_type": "stream",
     "text": [
      "[' Israel A ', 'Cíthia B ', 'Evandro A ', 'Andreia D ', 'Amaral E ']\n",
      "[' Israel A ', 'Cíthia B ', 'Evandro A ', 'Andreia D ', 'Amaral E ']\n",
      "Israel de Oliveira Teixeira\n"
     ]
    }
   ],
   "source": [
    "from numpy import sort\n",
    "autores = [ ' Israel A ', 'Cíthia B ', 'Evandro A ', 'Andreia D ', 'Amaral E ' ]\n",
    "print(autores)\n",
    "\n",
    "autores.sort(key=lambda sobrenome: sobrenome.split(' ')[-1].lower())\n",
    "print(autores)\n",
    "\n",
    "nome = 'Israel de Oliveira Teixeira'\n",
    "nome.split(' ')[-1].lower()\n",
    "print(nome)\n",
    "\n",
    "\n",
    "\n"
   ]
  },
  {
   "cell_type": "code",
   "execution_count": null,
   "metadata": {},
   "outputs": [],
   "source": [
    "from numpy import sort\n",
    "\n",
    "help (sort)"
   ]
  },
  {
   "cell_type": "code",
   "execution_count": null,
   "metadata": {},
   "outputs": [
    {
     "data": {
      "text/plain": [
       "{'b': 1, 'r': 2, 'o': 2, 'n': 1, 't': 1, 's': 3, 'a': 1, 'u': 2}"
      ]
     },
     "execution_count": 94,
     "metadata": {},
     "output_type": "execute_result"
    }
   ],
   "source": [
    "def histogram(s):\n",
    "    d = {}\n",
    "    for c in s:\n",
    "        if c not in d:\n",
    "            d[c] = 1\n",
    "        else:\n",
    "            d[c] += 1\n",
    "    return d\n",
    "\n",
    "\n",
    "\n",
    "h = histogram('brontosauruss')\n",
    "# h = histogram('O Brasil é o Pais do Futebol')\n",
    "h"
   ]
  },
  {
   "cell_type": "code",
   "execution_count": null,
   "metadata": {},
   "outputs": [],
   "source": []
  },
  {
   "cell_type": "code",
   "execution_count": 13,
   "metadata": {},
   "outputs": [
    {
     "name": "stdout",
     "output_type": "stream",
     "text": [
      "idade  igual a 15\n"
     ]
    }
   ],
   "source": [
    "# Estrutura Condicionais \n",
    "# if,else,elif\n",
    "\n",
    "\n",
    "idade = 15\n",
    "\n",
    "if idade < 15:\n",
    "    print('Menor de idade')\n",
    "\n",
    "elif idade == 18:\n",
    "    print(\"sim idade = a 18 \")\n",
    "\n",
    "elif idade == 15:\n",
    "   print(\"idade  igual a 15\")\n",
    "\n",
    "else:\n",
    "    print('Maior de idade')    \n",
    "\n"
   ]
  },
  {
   "cell_type": "code",
   "execution_count": null,
   "metadata": {},
   "outputs": [],
   "source": []
  }
 ],
 "metadata": {
  "kernelspec": {
   "display_name": "Python 3",
   "language": "python",
   "name": "python3"
  },
  "language_info": {
   "codemirror_mode": {
    "name": "ipython",
    "version": 3
   },
   "file_extension": ".py",
   "mimetype": "text/x-python",
   "name": "python",
   "nbconvert_exporter": "python",
   "pygments_lexer": "ipython3",
   "version": "3.12.0"
  }
 },
 "nbformat": 4,
 "nbformat_minor": 2
}
