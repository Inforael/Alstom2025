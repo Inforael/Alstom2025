{
 "cells": [
  {
   "cell_type": "code",
   "execution_count": 1,
   "metadata": {},
   "outputs": [],
   "source": [
    "import pandas as pd"
   ]
  },
  {
   "cell_type": "code",
   "execution_count": 4,
   "metadata": {},
   "outputs": [
    {
     "data": {
      "text/html": [
       "<div>\n",
       "<style scoped>\n",
       "    .dataframe tbody tr th:only-of-type {\n",
       "        vertical-align: middle;\n",
       "    }\n",
       "\n",
       "    .dataframe tbody tr th {\n",
       "        vertical-align: top;\n",
       "    }\n",
       "\n",
       "    .dataframe thead th {\n",
       "        text-align: right;\n",
       "    }\n",
       "</style>\n",
       "<table border=\"1\" class=\"dataframe\">\n",
       "  <thead>\n",
       "    <tr style=\"text-align: right;\">\n",
       "      <th></th>\n",
       "      <th>CONCAT</th>\n",
       "      <th>NUMERO</th>\n",
       "      <th>DATA_FISCAL</th>\n",
       "      <th>NF</th>\n",
       "      <th>ITEM</th>\n",
       "      <th>ITEM_NF</th>\n",
       "      <th>COD_PRODUTO</th>\n",
       "      <th>NCM</th>\n",
       "      <th>DESCRICAO</th>\n",
       "      <th>CHAVE_ACESSO</th>\n",
       "      <th>...</th>\n",
       "      <th>PRECO_LIQUIDO</th>\n",
       "      <th>PRECO_LIQUIDO_SEM_IMPOSTO</th>\n",
       "      <th>PAIS</th>\n",
       "      <th>MOVIMENTO</th>\n",
       "      <th>CATEGORIA_NF</th>\n",
       "      <th>MOEDA</th>\n",
       "      <th>Código para Filtro NF</th>\n",
       "      <th>NF L89</th>\n",
       "      <th>Fluxo</th>\n",
       "      <th>NF L6</th>\n",
       "    </tr>\n",
       "  </thead>\n",
       "  <tbody>\n",
       "    <tr>\n",
       "      <th>0</th>\n",
       "      <td>4458830</td>\n",
       "      <td>44588</td>\n",
       "      <td>2022-12-01</td>\n",
       "      <td>7811</td>\n",
       "      <td>3</td>\n",
       "      <td>30</td>\n",
       "      <td>DTR0000446082</td>\n",
       "      <td>3402.90.19</td>\n",
       "      <td>DTR0000446082 - PREPARACAO PARA LIMPEZA</td>\n",
       "      <td>'35221288309620003254550010000078111074489889'</td>\n",
       "      <td>...</td>\n",
       "      <td>665.61585</td>\n",
       "      <td>565.773473</td>\n",
       "      <td>CA</td>\n",
       "      <td>Entrada</td>\n",
       "      <td>NF-e Importação</td>\n",
       "      <td>BRL</td>\n",
       "      <td>7811DTR0000446082</td>\n",
       "      <td>NaN</td>\n",
       "      <td>FL06</td>\n",
       "      <td>NaN</td>\n",
       "    </tr>\n",
       "  </tbody>\n",
       "</table>\n",
       "<p>1 rows × 32 columns</p>\n",
       "</div>"
      ],
      "text/plain": [
       "    CONCAT  NUMERO DATA_FISCAL    NF  ITEM  ITEM_NF    COD_PRODUTO  \\\n",
       "0  4458830   44588  2022-12-01  7811     3       30  DTR0000446082   \n",
       "\n",
       "          NCM                                DESCRICAO  \\\n",
       "0  3402.90.19  DTR0000446082 - PREPARACAO PARA LIMPEZA   \n",
       "\n",
       "                                     CHAVE_ACESSO  ... PRECO_LIQUIDO  \\\n",
       "0  '35221288309620003254550010000078111074489889'  ...     665.61585   \n",
       "\n",
       "  PRECO_LIQUIDO_SEM_IMPOSTO  PAIS MOVIMENTO     CATEGORIA_NF  MOEDA  \\\n",
       "0                565.773473    CA   Entrada  NF-e Importação    BRL   \n",
       "\n",
       "   Código para Filtro NF  NF L89  Fluxo  NF L6  \n",
       "0      7811DTR0000446082     NaN   FL06    NaN  \n",
       "\n",
       "[1 rows x 32 columns]"
      ]
     },
     "execution_count": 4,
     "metadata": {},
     "output_type": "execute_result"
    }
   ],
   "source": [
    "notas = pd.read_excel(r\"C:\\\\Users\\\\201077405\\\\Documents\\\\Projetos\\\\New_Sistema\\\\Cargas_Dados\\\\Carga_de_testes\\\\8800 Conferência 01.2024 - OK L6.xlsx\")\n",
    "notas.head(1)"
   ]
  },
  {
   "cell_type": "code",
   "execution_count": null,
   "metadata": {},
   "outputs": [],
   "source": [
    "# COD_PRODUTO duplicado\n",
    "\n",
    "notas.duplicated([\"COD_PRODUTO\"])\n"
   ]
  },
  {
   "cell_type": "code",
   "execution_count": 39,
   "metadata": {},
   "outputs": [],
   "source": [
    "duplicados = notas[notas.duplicated([\"COD_PRODUTO\"])]"
   ]
  },
  {
   "cell_type": "code",
   "execution_count": null,
   "metadata": {},
   "outputs": [],
   "source": [
    "duplicados"
   ]
  },
  {
   "cell_type": "code",
   "execution_count": 43,
   "metadata": {},
   "outputs": [],
   "source": [
    "df_sem_duplicatas = notas.drop_duplicates()"
   ]
  },
  {
   "cell_type": "code",
   "execution_count": null,
   "metadata": {},
   "outputs": [],
   "source": [
    "df_sem_duplicatas"
   ]
  },
  {
   "cell_type": "code",
   "execution_count": 47,
   "metadata": {},
   "outputs": [],
   "source": [
    "# Remove as duplicatas por colunas\n",
    "\n",
    "df_sem_duplicatas2 = notas.drop_duplicates(subset =['COD_PRODUTO'])"
   ]
  },
  {
   "cell_type": "code",
   "execution_count": null,
   "metadata": {},
   "outputs": [],
   "source": [
    "df_sem_duplicatas2"
   ]
  },
  {
   "cell_type": "code",
   "execution_count": null,
   "metadata": {},
   "outputs": [],
   "source": [
    "# Remove diretamente do DataFrame Inplace\n",
    "\n",
    "notas.drop_duplicates(inplace=True)\n",
    "notas\n"
   ]
  }
 ],
 "metadata": {
  "kernelspec": {
   "display_name": "Python 3",
   "language": "python",
   "name": "python3"
  },
  "language_info": {
   "codemirror_mode": {
    "name": "ipython",
    "version": 3
   },
   "file_extension": ".py",
   "mimetype": "text/x-python",
   "name": "python",
   "nbconvert_exporter": "python",
   "pygments_lexer": "ipython3",
   "version": "3.12.0"
  }
 },
 "nbformat": 4,
 "nbformat_minor": 2
}
