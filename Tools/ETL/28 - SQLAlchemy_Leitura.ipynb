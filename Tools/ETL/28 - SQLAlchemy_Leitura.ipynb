{
 "cells": [
  {
   "cell_type": "markdown",
   "metadata": {},
   "source": [
    "Carga BNDES"
   ]
  },
  {
   "cell_type": "code",
   "execution_count": 1,
   "metadata": {},
   "outputs": [
    {
     "name": "stdout",
     "output_type": "stream",
     "text": [
      "Defaulting to user installation because normal site-packages is not writeable\n",
      "Requirement already satisfied: sqlalchemy in c:\\users\\201077405\\appdata\\roaming\\python\\python312\\site-packages (2.0.37)\n",
      "Requirement already satisfied: greenlet!=0.4.17 in c:\\users\\201077405\\appdata\\roaming\\python\\python312\\site-packages (from sqlalchemy) (3.1.1)\n",
      "Requirement already satisfied: typing-extensions>=4.6.0 in c:\\users\\201077405\\appdata\\roaming\\python\\python312\\site-packages (from sqlalchemy) (4.12.2)\n"
     ]
    },
    {
     "name": "stderr",
     "output_type": "stream",
     "text": [
      "\n",
      "[notice] A new release of pip is available: 25.0.1 -> 25.1.1\n",
      "[notice] To update, run: python.exe -m pip install --upgrade pip\n"
     ]
    }
   ],
   "source": [
    "\n",
    "! pip install sqlalchemy "
   ]
  },
  {
   "cell_type": "code",
   "execution_count": 1,
   "metadata": {},
   "outputs": [],
   "source": [
    "# import pandas as pd\n",
    "# import pyodbc\n",
    "# from sqlalchemy import create_engine\n",
    "\n",
    "# # SQL Server Native Client 11.0'\n",
    "\n",
    "# server= 'DESKTOP-VJ6I03A'\n",
    "# database='TSQL2012'\n",
    "# username='sa'\n",
    "# password=123456\n",
    "\n",
    "# agora = ('DRIVER={ODBC Driver 17 for SQL Server};'\n",
    "#             f'SERVER={server};'\n",
    "#             f'DATABASE={database};'\n",
    "#             f'UID={username};'\n",
    "#             f'PWD={password};''Trusted_Connection=no;'\n",
    "#         )\n",
    "\n",
    "# engine = create_engine(f'mssql+pyodbc:///?odbc_connect={agora}')\n",
    "\n",
    "# query = '''\n",
    "# SELECT * FROM [TSQL2012].[HR].[Employees]\n",
    "# '''\n",
    "\n",
    "# df = pd.read_sql_query(query, engine)\n",
    "# engine.dispose()\n",
    "# df.head()\n",
    "\n",
    "\n",
    "# ----------------------------------\n",
    "\n",
    "import pandas as pd\n",
    "import pyodbc\n",
    "from sqlalchemy import create_engine\n",
    "\n",
    "# SQL Server Native Client 11.0'\n",
    "\n",
    "server= 'AAD-BRJ218XTJ9'\n",
    "database='TSQL2012'\n",
    "# username='sa'\n",
    "# password=123456\n",
    "\n",
    "# agora = ('DRIVER={ODBC Driver 17 for SQL Server};'\n",
    "\n",
    "agora = ('DRIVER={SQL Server};'\n",
    "            f'SERVER={server};'\n",
    "            f'DATABASE={database};'\n",
    "            # f'UID={username};'\n",
    "            # f'PWD={password};'\n",
    "            'Trusted_Connection=yes;'\n",
    "        )\n",
    "\n",
    "engine = create_engine(f'mssql+pyodbc:///?odbc_connect={agora}')\n",
    "\n",
    "query = '''\n",
    "SELECT TOP (1000) [empid],[lastname],[firstname] FROM [TSQL2012].[HR].[Employees]\n",
    "'''\n",
    "\n",
    "df = pd.read_sql_query(query, engine)\n",
    "\n",
    "#  Transforma a Leitura do SQL em Excel \n",
    "\n",
    "df.to_excel('teste.xlsx', index=False)\n",
    "engine.dispose()\n",
    "# df.head()\n"
   ]
  }
 ],
 "metadata": {
  "kernelspec": {
   "display_name": "Python 3",
   "language": "python",
   "name": "python3"
  },
  "language_info": {
   "codemirror_mode": {
    "name": "ipython",
    "version": 3
   },
   "file_extension": ".py",
   "mimetype": "text/x-python",
   "name": "python",
   "nbconvert_exporter": "python",
   "pygments_lexer": "ipython3",
   "version": "3.12.0"
  }
 },
 "nbformat": 4,
 "nbformat_minor": 2
}
